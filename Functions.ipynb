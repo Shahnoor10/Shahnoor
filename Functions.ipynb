{
 "cells": [
  {
   "cell_type": "code",
   "execution_count": 1,
   "id": "1b78ce9e-2f31-4a7c-9315-76f8ab5d9f7f",
   "metadata": {},
   "outputs": [
    {
     "name": "stdout",
     "output_type": "stream",
     "text": [
      "Hello, Ali! Welcome to Python functions.\n",
      "The sum is: 12\n"
     ]
    }
   ],
   "source": [
    "# Function to greet a user\n",
    "def greet(name):\n",
    "    print(f\"Hello, {name}! Welcome to Python functions.\")\n",
    "\n",
    "# Function to add two numbers\n",
    "def add_numbers(a, b):\n",
    "    return a + b\n",
    "\n",
    "# Main program\n",
    "greet(\"Ali\")\n",
    "result = add_numbers(5, 7)\n",
    "print(\"The sum is:\", result)"
   ]
  },
  {
   "cell_type": "code",
   "execution_count": 2,
   "id": "9744eb4d-f5b9-45e7-bfa2-846b55e8d524",
   "metadata": {},
   "outputs": [
    {
     "name": "stdin",
     "output_type": "stream",
     "text": [
      "Enter a number:  4\n"
     ]
    },
    {
     "name": "stdout",
     "output_type": "stream",
     "text": [
      "4 is Even\n"
     ]
    }
   ],
   "source": [
    "# Function to check if a number is even or odd\n",
    "def check_even_odd(number):\n",
    "    if number % 2 == 0:\n",
    "        print(number, \"is Even\")\n",
    "    else:\n",
    "        print(number, \"is Odd\")\n",
    "\n",
    "# Main program\n",
    "num = int(input(\"Enter a number: \"))\n",
    "check_even_odd(num)"
   ]
  },
  {
   "cell_type": "code",
   "execution_count": 3,
   "id": "24ac81a0-9fc4-4693-82b1-e82c61695e56",
   "metadata": {},
   "outputs": [
    {
     "name": "stdin",
     "output_type": "stream",
     "text": [
      "Enter first number:  6\n",
      "Enter second number:  4\n",
      "Enter third number:  9\n"
     ]
    },
    {
     "name": "stdout",
     "output_type": "stream",
     "text": [
      "The largest number is: 9\n"
     ]
    }
   ],
   "source": [
    "# Function to find the largest number\n",
    "def find_largest(a, b, c):\n",
    "    if a >= b and a >= c:\n",
    "        return a\n",
    "    elif b >= a and b >= c:\n",
    "        return b\n",
    "    else:\n",
    "        return c\n",
    "\n",
    "# Main program\n",
    "x = int(input(\"Enter first number: \"))\n",
    "y = int(input(\"Enter second number: \"))\n",
    "z = int(input(\"Enter third number: \"))\n",
    "print(\"The largest number is:\", find_largest(x, y, z))"
   ]
  },
  {
   "cell_type": "code",
   "execution_count": 4,
   "id": "b453321b-1107-4d22-a018-d619ac483e01",
   "metadata": {},
   "outputs": [
    {
     "name": "stdin",
     "output_type": "stream",
     "text": [
      "Enter a number:  6\n"
     ]
    },
    {
     "name": "stdout",
     "output_type": "stream",
     "text": [
      "Factorial of 6 is 720\n"
     ]
    }
   ],
   "source": [
    "# Function to calculate factorial\n",
    "def factorial(n):\n",
    "    result = 1\n",
    "    for i in range(1, n + 1):\n",
    "        result *= i\n",
    "    return result\n",
    "\n",
    "# Main program\n",
    "num = int(input(\"Enter a number: \"))\n",
    "print(\"Factorial of\", num, \"is\", factorial(num))"
   ]
  },
  {
   "cell_type": "code",
   "execution_count": null,
   "id": "4a605a87-7e72-4a1e-9e64-a8b39bc5b00b",
   "metadata": {},
   "outputs": [],
   "source": []
  }
 ],
 "metadata": {
  "kernelspec": {
   "display_name": "Python [conda env:base] *",
   "language": "python",
   "name": "conda-base-py"
  },
  "language_info": {
   "codemirror_mode": {
    "name": "ipython",
    "version": 3
   },
   "file_extension": ".py",
   "mimetype": "text/x-python",
   "name": "python",
   "nbconvert_exporter": "python",
   "pygments_lexer": "ipython3",
   "version": "3.13.5"
  }
 },
 "nbformat": 4,
 "nbformat_minor": 5
}
