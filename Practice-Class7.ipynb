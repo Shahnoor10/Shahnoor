{
 "cells": [
  {
   "cell_type": "code",
   "execution_count": 47,
   "id": "0c62b0b9-9b9d-4a7a-b0d5-fb6cf206538b",
   "metadata": {},
   "outputs": [
    {
     "data": {
      "text/plain": [
       "[2, 1, 9, 7]"
      ]
     },
     "execution_count": 47,
     "metadata": {},
     "output_type": "execute_result"
    }
   ],
   "source": [
    "list=([2,1,9,7])\n",
    "list"
   ]
  },
  {
   "cell_type": "code",
   "execution_count": 18,
   "id": "695a8b6a-6853-4034-ab72-516f1adf864d",
   "metadata": {},
   "outputs": [
    {
     "data": {
      "text/plain": [
       "[2, 1, 9, 7, [5]]"
      ]
     },
     "execution_count": 18,
     "metadata": {},
     "output_type": "execute_result"
    }
   ],
   "source": [
    "list.append([5])\n",
    "list"
   ]
  },
  {
   "cell_type": "code",
   "execution_count": 8,
   "id": "b036f440-82a2-403c-bb5b-02c559d24818",
   "metadata": {},
   "outputs": [
    {
     "data": {
      "text/plain": [
       "[1, 2, 5, 7, 9]"
      ]
     },
     "execution_count": 8,
     "metadata": {},
     "output_type": "execute_result"
    }
   ],
   "source": [
    "list.sort()\n",
    "list"
   ]
  },
  {
   "cell_type": "code",
   "execution_count": 11,
   "id": "f0c81fcb-fc9c-4ca6-8dd8-b2fd4d818572",
   "metadata": {},
   "outputs": [
    {
     "data": {
      "text/plain": [
       "[2, 1, 9, 7]"
      ]
     },
     "execution_count": 11,
     "metadata": {},
     "output_type": "execute_result"
    }
   ],
   "source": [
    "list.reverse()\n",
    "list"
   ]
  },
  {
   "cell_type": "code",
   "execution_count": 15,
   "id": "eff4bc85-6b8c-45b1-a6aa-bc6e75b905bf",
   "metadata": {},
   "outputs": [
    {
     "data": {
      "text/plain": [
       "[9, 7, 2, 1]"
      ]
     },
     "execution_count": 15,
     "metadata": {},
     "output_type": "execute_result"
    }
   ],
   "source": [
    "list.sort(reverse=True)\n",
    "list"
   ]
  },
  {
   "cell_type": "code",
   "execution_count": 53,
   "id": "840ec546-8915-453c-b72c-4569e77fbf15",
   "metadata": {},
   "outputs": [
    {
     "data": {
      "text/plain": [
       "[2, 1, 0, 6, 8, 3, 6, 8, 3, 6, 8, 3]"
      ]
     },
     "execution_count": 53,
     "metadata": {},
     "output_type": "execute_result"
    }
   ],
   "source": [
    "list.extend([6,8,3])\n",
    "list"
   ]
  },
  {
   "cell_type": "code",
   "execution_count": 49,
   "id": "ae5ccd98-c4f0-42a1-ac11-98ff606b8d9e",
   "metadata": {},
   "outputs": [
    {
     "data": {
      "text/plain": [
       "[2, 1, 0, 9]"
      ]
     },
     "execution_count": 49,
     "metadata": {},
     "output_type": "execute_result"
    }
   ],
   "source": [
    "list.insert(2,0)\n",
    "list"
   ]
  },
  {
   "cell_type": "code",
   "execution_count": 50,
   "id": "e38317b3-2dc9-40be-b80b-ae7a04aef75a",
   "metadata": {},
   "outputs": [
    {
     "data": {
      "text/plain": [
       "[2, 1, 0]"
      ]
     },
     "execution_count": 50,
     "metadata": {},
     "output_type": "execute_result"
    }
   ],
   "source": [
    "list.pop()\n",
    "list"
   ]
  },
  {
   "cell_type": "code",
   "execution_count": 40,
   "id": "af59ba09-9f98-496c-9d2b-7d0f7c257c23",
   "metadata": {},
   "outputs": [
    {
     "data": {
      "text/plain": [
       "[2, 1, 9]"
      ]
     },
     "execution_count": 40,
     "metadata": {},
     "output_type": "execute_result"
    }
   ],
   "source": [
    "list.pop(2)\n",
    "list"
   ]
  },
  {
   "cell_type": "code",
   "execution_count": 42,
   "id": "367540c9-aeac-4463-aec1-5d1323f6491f",
   "metadata": {},
   "outputs": [
    {
     "data": {
      "text/plain": [
       "[2, 1, 9]"
      ]
     },
     "execution_count": 42,
     "metadata": {},
     "output_type": "execute_result"
    }
   ],
   "source": [
    "list.copy()\n",
    "list"
   ]
  },
  {
   "cell_type": "code",
   "execution_count": 59,
   "id": "286fdb94-9bf5-46d6-8ae1-35b05221436a",
   "metadata": {},
   "outputs": [
    {
     "data": {
      "text/plain": [
       "[1, 6]"
      ]
     },
     "execution_count": 59,
     "metadata": {},
     "output_type": "execute_result"
    }
   ],
   "source": [
    "list=([2, 1, 0, 6, 8, 3, 9, 5, 4, 7, 11, 19])\n",
    "list[1:4:2]"
   ]
  },
  {
   "cell_type": "code",
   "execution_count": 61,
   "id": "26e67547-102e-4b7d-aca5-ce3bddbc0b9b",
   "metadata": {},
   "outputs": [
    {
     "data": {
      "text/plain": [
       "[8, 4]"
      ]
     },
     "execution_count": 61,
     "metadata": {},
     "output_type": "execute_result"
    }
   ],
   "source": [
    "list=([2, 1, 0, 6, 8, 3, 9, 5, 4, 7, 11, 19])\n",
    "list[4::4]"
   ]
  },
  {
   "cell_type": "code",
   "execution_count": null,
   "id": "6590a837-2538-4114-9131-5fc617a071aa",
   "metadata": {},
   "outputs": [],
   "source": []
  }
 ],
 "metadata": {
  "kernelspec": {
   "display_name": "Python [conda env:base] *",
   "language": "python",
   "name": "conda-base-py"
  },
  "language_info": {
   "codemirror_mode": {
    "name": "ipython",
    "version": 3
   },
   "file_extension": ".py",
   "mimetype": "text/x-python",
   "name": "python",
   "nbconvert_exporter": "python",
   "pygments_lexer": "ipython3",
   "version": "3.13.5"
  }
 },
 "nbformat": 4,
 "nbformat_minor": 5
}
