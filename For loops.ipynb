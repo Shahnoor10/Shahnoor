{
 "cells": [
  {
   "cell_type": "code",
   "execution_count": 1,
   "id": "a00be282-3bc8-4f5e-a8b8-33d34e63a4a9",
   "metadata": {},
   "outputs": [
    {
     "name": "stdin",
     "output_type": "stream",
     "text": [
      "Enter a number:  2\n"
     ]
    },
    {
     "name": "stdout",
     "output_type": "stream",
     "text": [
      "\n",
      "Multiplication Table of 2:\n",
      "\n",
      "2 x 1 = 2\n",
      "2 x 2 = 4\n",
      "2 x 3 = 6\n",
      "2 x 4 = 8\n",
      "2 x 5 = 10\n",
      "2 x 6 = 12\n",
      "2 x 7 = 14\n",
      "2 x 8 = 16\n",
      "2 x 9 = 18\n",
      "2 x 10 = 20\n"
     ]
    }
   ],
   "source": [
    "# Multiplication Table using for loop\n",
    "\n",
    "number = int(input(\"Enter a number: \"))\n",
    "\n",
    "print(f\"\\nMultiplication Table of {number}:\\n\")\n",
    "\n",
    "for i in range(1, 11):\n",
    "    result = number * i\n",
    "    print(f\"{number} x {i} = {result}\")\n"
   ]
  },
  {
   "cell_type": "code",
   "execution_count": 2,
   "id": "b91aa97a-16da-4356-97b7-2e7c8c42a1b2",
   "metadata": {},
   "outputs": [
    {
     "name": "stdout",
     "output_type": "stream",
     "text": [
      "Even numbers from 1 to 50:\n",
      "2 4 6 8 10 12 14 16 18 20 22 24 26 28 30 32 34 36 38 40 42 44 46 48 50 \n",
      "\n",
      "Sum of even numbers: 650\n"
     ]
    }
   ],
   "source": [
    "# Sum of even numbers from 1 to 50\n",
    "\n",
    "total = 0\n",
    "\n",
    "print(\"Even numbers from 1 to 50:\")\n",
    "\n",
    "for i in range(1, 51):\n",
    "    if i % 2 == 0:\n",
    "        print(i, end=' ')\n",
    "        total += i\n",
    "\n",
    "print(f\"\\n\\nSum of even numbers: {total}\")"
   ]
  },
  {
   "cell_type": "code",
   "execution_count": 3,
   "id": "6051ffa9-a8ed-4994-995b-bdb52596ddc1",
   "metadata": {},
   "outputs": [
    {
     "name": "stdin",
     "output_type": "stream",
     "text": [
      "Enter number of rows:  3\n"
     ]
    },
    {
     "name": "stdout",
     "output_type": "stream",
     "text": [
      "\n",
      "Right-angled Triangle Pattern:\n",
      "\n",
      "* \n",
      "* * \n",
      "* * * \n"
     ]
    }
   ],
   "source": [
    "# Star pattern using for loop\n",
    "\n",
    "rows = int(input(\"Enter number of rows: \"))\n",
    "\n",
    "print(\"\\nRight-angled Triangle Pattern:\\n\")\n",
    "\n",
    "for i in range(1, rows + 1):\n",
    "    for j in range(i):\n",
    "        print(\"*\", end=\" \")\n",
    "    print()"
   ]
  },
  {
   "cell_type": "code",
   "execution_count": 4,
   "id": "3e0cbb8f-5ba0-4c09-95f1-011bdc2d76de",
   "metadata": {},
   "outputs": [
    {
     "name": "stdin",
     "output_type": "stream",
     "text": [
      "Enter a string:  My name is Shahnoor\n"
     ]
    },
    {
     "name": "stdout",
     "output_type": "stream",
     "text": [
      "Total number of vowels: 6\n"
     ]
    }
   ],
   "source": [
    "# Count vowels in a string using for loop\n",
    "\n",
    "text = input(\"Enter a string: \")\n",
    "vowels = \"aeiouAEIOU\"\n",
    "count = 0\n",
    "\n",
    "for char in text:\n",
    "    if char in vowels:\n",
    "        count += 1\n",
    "\n",
    "print(f\"Total number of vowels: {count}\")"
   ]
  },
  {
   "cell_type": "code",
   "execution_count": null,
   "id": "917c5742-23af-431b-bbc5-d8bfd6b8a22f",
   "metadata": {},
   "outputs": [],
   "source": []
  }
 ],
 "metadata": {
  "kernelspec": {
   "display_name": "Python [conda env:base] *",
   "language": "python",
   "name": "conda-base-py"
  },
  "language_info": {
   "codemirror_mode": {
    "name": "ipython",
    "version": 3
   },
   "file_extension": ".py",
   "mimetype": "text/x-python",
   "name": "python",
   "nbconvert_exporter": "python",
   "pygments_lexer": "ipython3",
   "version": "3.13.5"
  }
 },
 "nbformat": 4,
 "nbformat_minor": 5
}
