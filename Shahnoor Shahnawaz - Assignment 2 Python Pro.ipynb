{
 "cells": [
  {
   "cell_type": "code",
   "execution_count": 1,
   "id": "0770963b-347b-403c-907c-52ef69a4630a",
   "metadata": {},
   "outputs": [
    {
     "name": "stdin",
     "output_type": "stream",
     "text": [
      "Enter your length 20\n",
      "Enter your width 30\n"
     ]
    },
    {
     "name": "stdout",
     "output_type": "stream",
     "text": [
      "600.0\n"
     ]
    }
   ],
   "source": [
    "#Area of a Rectangle:\n",
    "length= float(input(\"Enter your length\"))\n",
    "width= float(input(\"Enter your width\"))\n",
    "area= length*width\n",
    "print(area)"
   ]
  },
  {
   "cell_type": "code",
   "execution_count": 3,
   "id": "62cc90d0-cc9d-4485-8d9c-c8c364aeab16",
   "metadata": {},
   "outputs": [
    {
     "name": "stdin",
     "output_type": "stream",
     "text": [
      "Enter your radius 20\n"
     ]
    },
    {
     "name": "stdout",
     "output_type": "stream",
     "text": [
      "125.67999999999999\n"
     ]
    }
   ],
   "source": [
    "#Circumference of a Circle:\n",
    "Pi= 3.142\n",
    "r= float(input(\"Enter your radius\"))\n",
    "Circumference= 2*Pi*r\n",
    "print(Circumference)"
   ]
  },
  {
   "cell_type": "code",
   "execution_count": 5,
   "id": "694a7d19-9754-4136-a6c7-3a2cda4dd088",
   "metadata": {},
   "outputs": [
    {
     "name": "stdin",
     "output_type": "stream",
     "text": [
      "Enter your principal 20000\n",
      "Enter your rate 1.4\n",
      "Enter your time 5\n"
     ]
    },
    {
     "name": "stdout",
     "output_type": "stream",
     "text": [
      "140000.0\n"
     ]
    }
   ],
   "source": [
    "#Simple Interest:\n",
    "principal= float(input(\"Enter your principal\"))\n",
    "rate= float(input(\"Enter your rate\"))\n",
    "time= float(input(\"Enter your time\"))\n",
    "SimpleInterest= principal*rate*time\n",
    "print(SimpleInterest)"
   ]
  },
  {
   "cell_type": "code",
   "execution_count": 6,
   "id": "97a739a9-0c8c-4d54-85b4-a693cbb25ecd",
   "metadata": {},
   "outputs": [
    {
     "name": "stdin",
     "output_type": "stream",
     "text": [
      "Enter your diatance 20\n",
      "Enter your time 0.45\n"
     ]
    },
    {
     "name": "stdout",
     "output_type": "stream",
     "text": [
      "44.44444444444444\n"
     ]
    }
   ],
   "source": [
    "#Speed of an Object:\n",
    "distance= float(input(\"Enter your diatance\"))\n",
    "time= float(input(\"Enter your time\"))\n",
    "speed=distance/time\n",
    "print(speed)"
   ]
  },
  {
   "cell_type": "code",
   "execution_count": 8,
   "id": "df94ba9f-dc31-4c7d-9d8d-c0409036614f",
   "metadata": {},
   "outputs": [
    {
     "name": "stdin",
     "output_type": "stream",
     "text": [
      "Enter your weight in kilometres 56.5\n",
      "Enter your height in metres 5.7\n"
     ]
    },
    {
     "name": "stdout",
     "output_type": "stream",
     "text": [
      "1835.6850000000002\n"
     ]
    }
   ],
   "source": [
    "#BMI Calculator:\n",
    "weight= float(input(\"Enter your weight in kilometers\"))\n",
    "height= float(input(\"Enter your height in meters\"))\n",
    "BMI= weight*height**2\n",
    "print(BMI)"
   ]
  },
  {
   "cell_type": "code",
   "execution_count": 13,
   "id": "fbd9c818-2311-4c95-8e71-e3f95ffa2b52",
   "metadata": {},
   "outputs": [
    {
     "name": "stdin",
     "output_type": "stream",
     "text": [
      "Enter your mass in kilometres 56.5\n",
      "Enter your acceleration in metres/second**2 20\n"
     ]
    },
    {
     "name": "stdout",
     "output_type": "stream",
     "text": [
      "1130.0\n"
     ]
    }
   ],
   "source": [
    "#Force Using Newton's Second Law:\n",
    "mass= float(input(\"Enter your mass in kilograms\"))\n",
    "acceleration= float(input(\"Enter your acceleration in meters/second square\"))\n",
    "Force= mass*acceleration\n",
    "print(Force)"
   ]
  },
  {
   "cell_type": "code",
   "execution_count": 14,
   "id": "db147226-c648-411b-8ddc-9ec5f6cce617",
   "metadata": {},
   "outputs": [
    {
     "name": "stdin",
     "output_type": "stream",
     "text": [
      "Enter your principal 2000\n",
      "Enter your rate 1.4\n",
      "Enter your number of times interest is compounded in per year 2\n",
      "Enter your time 5\n"
     ]
    },
    {
     "name": "stdout",
     "output_type": "stream",
     "text": [
      "5774.999999999999\n"
     ]
    }
   ],
   "source": [
    "#Compound Interest:\n",
    "P= float(input(\"Enter your principal\"))\n",
    "r= float(input(\"Enter your rate\"))\n",
    "n= float(input(\"Enter your number of times interest is compounded in per year\"))\n",
    "t= float(input(\"Enter your time\"))\n",
    "A= P*(1+r/n)**n-t\n",
    "print(A)"
   ]
  },
  {
   "cell_type": "code",
   "execution_count": 15,
   "id": "f8736e30-d5b9-4ded-869c-fa81558e9368",
   "metadata": {},
   "outputs": [
    {
     "name": "stdin",
     "output_type": "stream",
     "text": [
      "Enter your length of 1st side 20\n",
      "Enter your length of 2nd side 30\n",
      "Enter your length of 3rd side 40\n"
     ]
    },
    {
     "name": "stdout",
     "output_type": "stream",
     "text": [
      "90.0\n"
     ]
    }
   ],
   "source": [
    "#Perimeter of a Triangle:\n",
    "a= float(input(\"Enter your length of 1st side\"))\n",
    "b= float(input(\"Enter your length of 2nd side\"))\n",
    "c= float(input(\"Enter your length of 3rd side\"))\n",
    "Perimeter= a+b+c\n",
    "print(Perimeter)"
   ]
  },
  {
   "cell_type": "code",
   "execution_count": 17,
   "id": "653de738-4c69-42c0-b95a-efd53136458e",
   "metadata": {},
   "outputs": [
    {
     "name": "stdin",
     "output_type": "stream",
     "text": [
      "Enter your radius 10\n"
     ]
    },
    {
     "name": "stdout",
     "output_type": "stream",
     "text": [
      "23.565\n"
     ]
    }
   ],
   "source": [
    "#Volume of a Sphere:\n",
    "Pi= 3.142\n",
    "r= float(input(\"Enter your radius\"))\n",
    "Volume= 3/4*Pi*r\n",
    "print(Volume)"
   ]
  },
  {
   "cell_type": "code",
   "execution_count": 19,
   "id": "af6fd434-eb48-4e0a-9546-b9ec6e353629",
   "metadata": {},
   "outputs": [
    {
     "name": "stdin",
     "output_type": "stream",
     "text": [
      "Enter your mass in kilograms 20\n",
      "Enter your velocity in meters/second square 10\n"
     ]
    },
    {
     "name": "stdout",
     "output_type": "stream",
     "text": [
      "100.0\n"
     ]
    }
   ],
   "source": [
    "#Kinetic Energy:\n",
    "mass= float(input(\"Enter your mass in kilograms\"))\n",
    "velocity= float(input(\"Enter your velocity in meters/second square\"))\n",
    "KE= 1/2*mass*velocity\n",
    "print(KE)"
   ]
  },
  {
   "cell_type": "code",
   "execution_count": 21,
   "id": "8a5a0b30-e613-4b03-b38a-d5b92335580c",
   "metadata": {},
   "outputs": [
    {
     "name": "stdin",
     "output_type": "stream",
     "text": [
      "Enter the value of a 2\n",
      "Enter the value of b 3\n",
      "Enter the value of c 4\n"
     ]
    },
    {
     "name": "stdout",
     "output_type": "stream",
     "text": [
      "8.5\n"
     ]
    }
   ],
   "source": [
    "#Quadratic Equation Roots:\n",
    "a= float(input(\"Enter the value of a\"))\n",
    "b= float(input(\"Enter the value of b\"))\n",
    "c= float(input(\"Enter the value of c\"))\n",
    "X= (-b+-(b**2-4*a*c)**1/2)/2*a\n",
    "print(X)"
   ]
  },
  {
   "cell_type": "code",
   "execution_count": 22,
   "id": "5adc1428-d79a-4351-be50-c4abd7dfbd31",
   "metadata": {},
   "outputs": [
    {
     "name": "stdin",
     "output_type": "stream",
     "text": [
      "Enter the temperature in degree celcius 40\n"
     ]
    },
    {
     "name": "stdout",
     "output_type": "stream",
     "text": [
      "104.0\n"
     ]
    }
   ],
   "source": [
    "#Temperature Conversion:\n",
    "C= float(input(\"Enter the temperature in degree celcius\"))\n",
    "F= (9/5)*C+32\n",
    "print(F)"
   ]
  },
  {
   "cell_type": "code",
   "execution_count": 42,
   "id": "ad9c1537-a705-4195-82e1-785024382c2b",
   "metadata": {},
   "outputs": [
    {
     "name": "stdin",
     "output_type": "stream",
     "text": [
      "Enter your mass of 1st object 10\n",
      "Enter your mass of 2nd object 20\n",
      "Enter your distance between the two objects 5\n"
     ]
    },
    {
     "name": "stdout",
     "output_type": "stream",
     "text": [
      "80.0\n"
     ]
    }
   ],
   "source": [
    "#Gravitational Force:\n",
    "G= 10\n",
    "m1= float(input(\"Enter your mass of 1st object\"))\n",
    "m2= float(input(\"Enter your mass of 2nd object\"))\n",
    "r= float(input(\"Enter your distance between the two objects\"))\n",
    "F= G*(m1*m2)/r**2\n",
    "print(F)"
   ]
  },
  {
   "cell_type": "code",
   "execution_count": 28,
   "id": "cc3c13da-31a1-4e97-a680-fb1385923b31",
   "metadata": {},
   "outputs": [
    {
     "name": "stdin",
     "output_type": "stream",
     "text": [
      "Enter your radius 10\n",
      "Enter your height 20\n"
     ]
    },
    {
     "name": "stdout",
     "output_type": "stream",
     "text": [
      "6284.0\n"
     ]
    }
   ],
   "source": [
    "#Volume of a Cylinder:\n",
    "Pi= 3.142\n",
    "r= float(input(\"Enter your radius\"))\n",
    "height= float(input(\"Enter your height\"))\n",
    "Volume= Pi*r**2*height\n",
    "print(Volume)"
   ]
  },
  {
   "cell_type": "code",
   "execution_count": 29,
   "id": "f26abba7-764b-4df0-8eeb-02b7d1e4749b",
   "metadata": {},
   "outputs": [
    {
     "name": "stdin",
     "output_type": "stream",
     "text": [
      "Enter your force 20\n",
      "Enter your area 10\n"
     ]
    },
    {
     "name": "stdout",
     "output_type": "stream",
     "text": [
      "2.0\n"
     ]
    }
   ],
   "source": [
    "# Pressure:\n",
    "F= float(input(\"Enter your force\"))\n",
    "A= float(input(\"Enter your area\"))\n",
    "P= F/A\n",
    "print(P)"
   ]
  },
  {
   "cell_type": "code",
   "execution_count": 30,
   "id": "d4e11b76-64a5-441b-8616-b5f5e5e78812",
   "metadata": {},
   "outputs": [
    {
     "name": "stdin",
     "output_type": "stream",
     "text": [
      "Enter your voltage 20\n",
      "Enter your current 30\n"
     ]
    },
    {
     "name": "stdout",
     "output_type": "stream",
     "text": [
      "0.6666666666666666\n"
     ]
    }
   ],
   "source": [
    "#Electric Power:\n",
    "V= float(input(\"Enter your voltage\"))\n",
    "I= float(input(\"Enter your current\"))\n",
    "P= V/I\n",
    "print(P)"
   ]
  },
  {
   "cell_type": "code",
   "execution_count": 31,
   "id": "7479208d-5ebe-44d2-aaf0-bf1555ea9a19",
   "metadata": {},
   "outputs": [
    {
     "name": "stdin",
     "output_type": "stream",
     "text": [
      "Enter your radius 20\n"
     ]
    },
    {
     "name": "stdout",
     "output_type": "stream",
     "text": [
      "125.67999999999999\n"
     ]
    }
   ],
   "source": [
    "#Perimeter of a Circle (Circumference):\n",
    "Pi= 3.142\n",
    "r= float(input(\"Enter your radius\"))\n",
    "Perimeter= 2*Pi*r\n",
    "print(Perimeter)"
   ]
  },
  {
   "cell_type": "code",
   "execution_count": 43,
   "id": "9a9881a6-4d48-429d-8da9-7c6ee9441434",
   "metadata": {},
   "outputs": [
    {
     "name": "stdin",
     "output_type": "stream",
     "text": [
      "Enter your present value 2000\n",
      "Enter your rate 1.4\n",
      "Enter your time 4\n"
     ]
    },
    {
     "name": "stdout",
     "output_type": "stream",
     "text": [
      "66355.2\n"
     ]
    }
   ],
   "source": [
    "## Future Value in Savings:\n",
    "PV= float(input(\"Enter your present value\"))\n",
    "r= float(input(\"Enter your rate\"))\n",
    "t= float(input(\"Enter your time\"))\n",
    "FV= PV*(1+r)**t\n",
    "print(FV)"
   ]
  },
  {
   "cell_type": "code",
   "execution_count": 38,
   "id": "ce9f4773-6506-42d3-8e0f-5a4be5a94c5f",
   "metadata": {},
   "outputs": [
    {
     "name": "stdin",
     "output_type": "stream",
     "text": [
      "Enter your force 20\n",
      "Enter your distance 10\n",
      "Enter your angle between forces 15.4\n"
     ]
    },
    {
     "name": "stdout",
     "output_type": "stream",
     "text": [
      "3080.0\n"
     ]
    }
   ],
   "source": [
    "# Work Done by a Force:\n",
    "f= float(input(\"Enter your force\"))\n",
    "d= float(input(\"Enter your distance\"))\n",
    "theta= float(input(\"Enter your angle between forces\"))\n",
    "W= f*d*theta\n",
    "print(W)"
   ]
  },
  {
   "cell_type": "code",
   "execution_count": 39,
   "id": "19c8e544-70e1-4a01-b80a-4e644059e7df",
   "metadata": {},
   "outputs": [
    {
     "name": "stdin",
     "output_type": "stream",
     "text": [
      "Enter your mass 20\n",
      "Enter your specific heat capacity 300\n",
      "Enter your change in temperature 45\n"
     ]
    },
    {
     "name": "stdout",
     "output_type": "stream",
     "text": [
      "270000.0\n"
     ]
    }
   ],
   "source": [
    "#Heat Transfer:\n",
    "m= float(input(\"Enter your mass\"))\n",
    "c= float(input(\"Enter your specific heat capacity\"))\n",
    "t= float(input(\"Enter your change in temperature\"))\n",
    "Q= m*c*t\n",
    "print(Q)"
   ]
  }
 ],
 "metadata": {
  "kernelspec": {
   "display_name": "Python [conda env:base] *",
   "language": "python",
   "name": "conda-base-py"
  },
  "language_info": {
   "codemirror_mode": {
    "name": "ipython",
    "version": 3
   },
   "file_extension": ".py",
   "mimetype": "text/x-python",
   "name": "python",
   "nbconvert_exporter": "python",
   "pygments_lexer": "ipython3",
   "version": "3.13.5"
  }
 },
 "nbformat": 4,
 "nbformat_minor": 5
}
