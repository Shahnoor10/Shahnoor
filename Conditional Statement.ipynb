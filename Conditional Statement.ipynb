{
 "cells": [
  {
   "cell_type": "code",
   "execution_count": null,
   "id": "2266ec83-a5c9-4de4-ae09-4f44df7bbcdd",
   "metadata": {},
   "outputs": [],
   "source": [
    "item1= input(\"Enter your item\")\n",
    "price1= int(input(\"What is the price: \"))\n",
    "item2= input(\"Enter your item\")\n",
    "price2= int(input(\"What is the price: \"))\n",
    "item3= input(\"Enter your item\")\n",
    "price3= int(input(\"What is the price: \"))\n",
    "item4= input(\"Enter your item\")\n",
    "price4= int(input(\"What is the price: \"))\n",
    "item5= input(\"Enter your item\")\n",
    "price5= int(input(\"What is the price: \"))\n",
    "\n",
    "total_price= price1+price2+price3+price4+price5\n",
    "dis= None\n",
    "\n",
    "if total_price > 10000:\n",
    "    dis= total_price-(total_price*0.2)\n",
    "elif total_price >=8000 and total_price<=9999:\n",
    "    dis= total_price-(total_price*0.15)\n",
    "elif total_price >=6000 and total_price<=7999:\n",
    "    dis= total_price-(total_price*0.1)\n",
    "elif total_price >=4000 and total_price<=5999:\n",
    "    dis= total_price-(total_price*0.05)\n",
    "else:\n",
    "    dis== total_price\n",
    "print(f\"\"\"\n",
    "      New Shop\n",
    "    -----------\n",
    "    {item1} : {price1}\n",
    "    {item2} : {price2}\n",
    "    {item3} : {price3}\n",
    "    {item4} : {price4}\n",
    "    {item5} : {price5}\n",
    "\n",
    "Your total is {dis}\n",
    "\"\"\")"
   ]
  },
  {
   "cell_type": "code",
   "execution_count": 18,
   "id": "f946a629-5f24-4d67-beae-279a1f7c64d8",
   "metadata": {},
   "outputs": [
    {
     "name": "stdin",
     "output_type": "stream",
     "text": [
      "Enter student total marks -3\n"
     ]
    },
    {
     "name": "stdout",
     "output_type": "stream",
     "text": [
      "Invalid Input\n"
     ]
    }
   ],
   "source": [
    "marks= int(input(\"Enter student total marks\"))\n",
    "Grade= None\n",
    "\n",
    "if marks >100 or marks<0:\n",
    "    Grade = \"Invalid Input\"\n",
    "elif marks >=90:\n",
    "    Grade = \"A\"\n",
    "elif marks >=80 and marks<=89:\n",
    "    Grade = \"B\"\n",
    "elif marks >=70 and marks<=79:\n",
    "    Grade = \"C\"\n",
    "elif marks >=60 and marks<=69:\n",
    "    Grade = \"D\"\n",
    "else:\n",
    "    Grade = \"F\"\n",
    "print(f\"{Grade}\")"
   ]
  },
  {
   "cell_type": "code",
   "execution_count": 35,
   "id": "52ea231d-ed27-47e0-b696-71d10d6d180c",
   "metadata": {},
   "outputs": [
    {
     "name": "stdin",
     "output_type": "stream",
     "text": [
      "Enter a number 0\n"
     ]
    },
    {
     "name": "stdout",
     "output_type": "stream",
     "text": [
      "Number is zero\n"
     ]
    }
   ],
   "source": [
    "number = int(input(\"Enter a number\"))\n",
    "num = None\n",
    "\n",
    "if number == 0:\n",
    "    num = \"Number is zero\"\n",
    "elif number%2==0:\n",
    "    num = \"Number is even\"\n",
    "else:\n",
    "    num = \"Number is odd\"\n",
    "print(num)"
   ]
  },
  {
   "cell_type": "code",
   "execution_count": 7,
   "id": "0b75582d-8068-4207-b834-6ef996b9f1e1",
   "metadata": {},
   "outputs": [
    {
     "name": "stdin",
     "output_type": "stream",
     "text": [
      "Enter your age:  20\n"
     ]
    },
    {
     "name": "stdout",
     "output_type": "stream",
     "text": [
      "Adult\n"
     ]
    }
   ],
   "source": [
    "age = int(input(\"Enter your age: \"))\n",
    "category = None\n",
    "\n",
    "if age==0:\n",
    "    category=\"Invalid Input\"\n",
    "elif age>=0 and age<=12:\n",
    "    category=\"Child\"\n",
    "elif age>=13 and age<=17:\n",
    "    category=\"Teenager\"\n",
    "elif age>=18 and age<=59:\n",
    "    category=\"Adult\"\n",
    "else:\n",
    "    category=\"Senio Citizen\"\n",
    "\n",
    "print(category)"
   ]
  },
  {
   "cell_type": "code",
   "execution_count": 8,
   "id": "bd81fc6c-b3ef-458b-a4f4-bbd4b60737c6",
   "metadata": {},
   "outputs": [
    {
     "name": "stdin",
     "output_type": "stream",
     "text": [
      "Enter a number 5\n",
      "Enter a number 6\n",
      "Enter a operator *\n"
     ]
    },
    {
     "name": "stdout",
     "output_type": "stream",
     "text": [
      "30\n"
     ]
    }
   ],
   "source": [
    "num1 = int(input(\"Enter a number\"))\n",
    "num2 = int(input(\"Enter a number\"))\n",
    "operator = (input(\"Enter a operator\"))\n",
    "calculation= None\n",
    "\n",
    "if operator not in [\"+\",\"-\",\"*\",\"/\"]:\n",
    "    calculation = \"Invalid operator\"\n",
    "elif operator ==\"/\" and num2 == 0:\n",
    "    calculation = \"Cannot divide by zero\"\n",
    "elif operator == \"+\":\n",
    "    calculation = num1+num2\n",
    "elif operator == \"-\":\n",
    "    calculation = num1-num2\n",
    "elif operator == \"*\":\n",
    "    calculation = num1*num2\n",
    "elif operator == \"/\":\n",
    "    calculation = num1/num2\n",
    "print(calculation)"
   ]
  },
  {
   "cell_type": "code",
   "execution_count": 6,
   "id": "57316abf-e327-40f0-b736-78271d4d78f3",
   "metadata": {},
   "outputs": [
    {
     "name": "stdin",
     "output_type": "stream",
     "text": [
      "Enter temperature -6\n"
     ]
    },
    {
     "name": "stdout",
     "output_type": "stream",
     "text": [
      "It's cold!\n"
     ]
    }
   ],
   "source": [
    "temp = int(input(\"Enter temperature\"))\n",
    "weather= None\n",
    "\n",
    "if temp >=40:\n",
    "    weather= \"It's extremely hot!\"\n",
    "elif temp >=30 and temp<=39:\n",
    "    weather= \"It's a hot day.\"\n",
    "elif temp >=20 and temp<=29:\n",
    "    weather= \"The weather is nice.\"\n",
    "elif temp >=10 and temp <=19:\n",
    "    weather= \"It's a bit chilly.\"\n",
    "else:\n",
    "    weather= \"It's cold!\"\n",
    "print(weather)"
   ]
  },
  {
   "cell_type": "code",
   "execution_count": null,
   "id": "028a6d55-da02-4889-a5f3-05b92697d3c0",
   "metadata": {},
   "outputs": [],
   "source": [
    "num = int(input(\"Enter a number\"))"
   ]
  }
 ],
 "metadata": {
  "kernelspec": {
   "display_name": "Python [conda env:base] *",
   "language": "python",
   "name": "conda-base-py"
  },
  "language_info": {
   "codemirror_mode": {
    "name": "ipython",
    "version": 3
   },
   "file_extension": ".py",
   "mimetype": "text/x-python",
   "name": "python",
   "nbconvert_exporter": "python",
   "pygments_lexer": "ipython3",
   "version": "3.13.5"
  }
 },
 "nbformat": 4,
 "nbformat_minor": 5
}
