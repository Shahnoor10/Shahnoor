{
 "cells": [
  {
   "cell_type": "code",
   "execution_count": 2,
   "id": "2a95516f-8444-4039-b9bc-d178721e9009",
   "metadata": {},
   "outputs": [
    {
     "name": "stdout",
     "output_type": "stream",
     "text": [
      "Numbers from 1 to 10:\n",
      "\n",
      "1\n",
      "2\n",
      "3\n",
      "4\n",
      "5\n",
      "6\n",
      "7\n",
      "8\n",
      "9\n",
      "10\n"
     ]
    }
   ],
   "source": [
    "# Print numbers from 1 to 10 using while loop\n",
    "\n",
    "i = 1\n",
    "\n",
    "print(\"Numbers from 1 to 10:\\n\")\n",
    "\n",
    "while i <= 10:\n",
    "    print(i)\n",
    "    i += 1"
   ]
  },
  {
   "cell_type": "code",
   "execution_count": 3,
   "id": "9ad40682-55c5-4b8e-ac05-381cec270758",
   "metadata": {},
   "outputs": [
    {
     "name": "stdout",
     "output_type": "stream",
     "text": [
      "Sum of even numbers from 1 to 20 is: 110\n"
     ]
    }
   ],
   "source": [
    "# Sum of even numbers from 1 to 20 using while loop\n",
    "\n",
    "i = 1\n",
    "total = 0\n",
    "\n",
    "while i <= 20:\n",
    "    if i % 2 == 0:\n",
    "        total += i\n",
    "    i += 1\n",
    "\n",
    "print(f\"Sum of even numbers from 1 to 20 is: {total}\")"
   ]
  },
  {
   "cell_type": "code",
   "execution_count": 4,
   "id": "9c264b99-8423-473d-bc10-33a4cf7e9384",
   "metadata": {},
   "outputs": [
    {
     "name": "stdout",
     "output_type": "stream",
     "text": [
      "Countdown begins!\n",
      "\n",
      "10\n",
      "9\n",
      "8\n",
      "7\n",
      "6\n",
      "5\n",
      "4\n",
      "3\n",
      "2\n",
      "1\n",
      "Liftoff! 🚀\n"
     ]
    }
   ],
   "source": [
    "# Countdown from 10 to 1 using while loop\n",
    "\n",
    "count = 10\n",
    "\n",
    "print(\"Countdown begins!\\n\")\n",
    "\n",
    "while count > 0:\n",
    "    print(count)\n",
    "    count -= 1\n",
    "\n",
    "print(\"Liftoff! 🚀\")"
   ]
  },
  {
   "cell_type": "code",
   "execution_count": 5,
   "id": "d460e07e-6d61-46a4-9776-707085cdb29e",
   "metadata": {},
   "outputs": [
    {
     "name": "stdout",
     "output_type": "stream",
     "text": [
      "Guess the secret number (between 1 and 10):\n"
     ]
    },
    {
     "name": "stdin",
     "output_type": "stream",
     "text": [
      "Your guess:  3\n",
      "Your guess:  5\n",
      "Your guess:  7\n"
     ]
    },
    {
     "name": "stdout",
     "output_type": "stream",
     "text": [
      "🎉 Correct! You guessed the number.\n"
     ]
    }
   ],
   "source": [
    "# Number guessing game using while loop\n",
    "\n",
    "secret = 7\n",
    "guess = 0\n",
    "\n",
    "print(\"Guess the secret number (between 1 and 10):\")\n",
    "\n",
    "while guess != secret:\n",
    "    guess = int(input(\"Your guess: \"))\n",
    "\n",
    "print(\"🎉 Correct! You guessed the number.\")"
   ]
  },
  {
   "cell_type": "code",
   "execution_count": 6,
   "id": "f7db860d-3f08-4190-b009-b5f5f91c8519",
   "metadata": {},
   "outputs": [
    {
     "name": "stdin",
     "output_type": "stream",
     "text": [
      "Enter a number:  4\n"
     ]
    },
    {
     "name": "stdout",
     "output_type": "stream",
     "text": [
      "Factorial of 4 is 24\n"
     ]
    }
   ],
   "source": [
    "# Calculate factorial using while loop\n",
    "\n",
    "num = int(input(\"Enter a number: \"))\n",
    "result = 1\n",
    "i = 1\n",
    "\n",
    "while i <= num:\n",
    "    result *= i\n",
    "    i += 1\n",
    "\n",
    "print(f\"Factorial of {num} is {result}\")"
   ]
  }
 ],
 "metadata": {
  "kernelspec": {
   "display_name": "Python [conda env:base] *",
   "language": "python",
   "name": "conda-base-py"
  },
  "language_info": {
   "codemirror_mode": {
    "name": "ipython",
    "version": 3
   },
   "file_extension": ".py",
   "mimetype": "text/x-python",
   "name": "python",
   "nbconvert_exporter": "python",
   "pygments_lexer": "ipython3",
   "version": "3.13.5"
  }
 },
 "nbformat": 4,
 "nbformat_minor": 5
}
