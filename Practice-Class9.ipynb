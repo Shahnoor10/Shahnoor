{
 "cells": [
  {
   "cell_type": "code",
   "execution_count": 2,
   "id": "052b12f8-9f74-4e16-adfa-7ecce25917e9",
   "metadata": {},
   "outputs": [
    {
     "name": "stdout",
     "output_type": "stream",
     "text": [
      "{'name': 'shahnoor', 'ID': 3566, 'Institute': 'Aptech'}\n"
     ]
    }
   ],
   "source": [
    "student= {\n",
    "    \"name\" : \"shahnoor\",\n",
    "    \"ID\" : 3566,\n",
    "    \"Institute\" : \"Aptech\"\n",
    "}\n",
    "print(student)"
   ]
  },
  {
   "cell_type": "code",
   "execution_count": 3,
   "id": "a753800d-7af6-4af4-8a60-5eadd6bd4160",
   "metadata": {},
   "outputs": [
    {
     "data": {
      "text/plain": [
       "3"
      ]
     },
     "execution_count": 3,
     "metadata": {},
     "output_type": "execute_result"
    }
   ],
   "source": [
    "len(student)"
   ]
  },
  {
   "cell_type": "code",
   "execution_count": 5,
   "id": "05d665ea-84c0-421b-a046-b8cee30afd0e",
   "metadata": {},
   "outputs": [
    {
     "data": {
      "text/plain": [
       "dict"
      ]
     },
     "execution_count": 5,
     "metadata": {},
     "output_type": "execute_result"
    }
   ],
   "source": [
    "type(student)"
   ]
  },
  {
   "cell_type": "code",
   "execution_count": 6,
   "id": "ee02c73f-f6fd-4f34-b1e0-9716e5388803",
   "metadata": {},
   "outputs": [
    {
     "name": "stdout",
     "output_type": "stream",
     "text": [
      "shahnoor\n"
     ]
    }
   ],
   "source": [
    "print(student[\"name\"])"
   ]
  },
  {
   "cell_type": "code",
   "execution_count": 8,
   "id": "65336df0-82b5-4e35-b3da-ff54634d06e9",
   "metadata": {},
   "outputs": [
    {
     "name": "stdout",
     "output_type": "stream",
     "text": [
      "{'name': 'shahnoor', 'ID': 3577, 'Institute': 'Aptech'}\n"
     ]
    }
   ],
   "source": [
    "student[\"ID\"]=3577\n",
    "print(student)"
   ]
  },
  {
   "cell_type": "code",
   "execution_count": 10,
   "id": "83aca3ce-e841-4c39-acb1-8cc4f62a5397",
   "metadata": {},
   "outputs": [
    {
     "name": "stdout",
     "output_type": "stream",
     "text": [
      "{'name': 'shahnoor', 'ID': 3577, 'Institute': 'Aptech', 'email': 'email@gmail.com'}\n"
     ]
    }
   ],
   "source": [
    "student[\"email\"]=\"email@gmail.com\"\n",
    "print(student)"
   ]
  }
 ],
 "metadata": {
  "kernelspec": {
   "display_name": "Python [conda env:base] *",
   "language": "python",
   "name": "conda-base-py"
  },
  "language_info": {
   "codemirror_mode": {
    "name": "ipython",
    "version": 3
   },
   "file_extension": ".py",
   "mimetype": "text/x-python",
   "name": "python",
   "nbconvert_exporter": "python",
   "pygments_lexer": "ipython3",
   "version": "3.13.5"
  }
 },
 "nbformat": 4,
 "nbformat_minor": 5
}
