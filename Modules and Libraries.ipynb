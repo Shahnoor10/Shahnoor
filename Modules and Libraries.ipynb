{
 "cells": [
  {
   "cell_type": "code",
   "execution_count": 1,
   "id": "8d3656f1-fe5e-46fc-8280-4e2ff751f7d3",
   "metadata": {},
   "outputs": [
    {
     "name": "stdout",
     "output_type": "stream",
     "text": [
      "Random number: 68\n",
      "Square root: 8.246211251235321\n",
      "Current date and time: 2025-08-12 12:31:55.845441\n"
     ]
    }
   ],
   "source": [
    "# Using built-in Python modules\n",
    "\n",
    "import math\n",
    "import random\n",
    "import datetime\n",
    "\n",
    "# Generate a random number between 1 and 100\n",
    "num = random.randint(1, 100)\n",
    "print(\"Random number:\", num)\n",
    "\n",
    "# Calculate the square root\n",
    "print(\"Square root:\", math.sqrt(num))\n",
    "\n",
    "# Print current date and time\n",
    "print(\"Current date and time:\", datetime.datetime.now())"
   ]
  },
  {
   "cell_type": "code",
   "execution_count": 2,
   "id": "6612784a-e403-4cbd-844d-7a786325785b",
   "metadata": {},
   "outputs": [
    {
     "name": "stdout",
     "output_type": "stream",
     "text": [
      "    August 2025\n",
      "Mo Tu We Th Fr Sa Su\n",
      "             1  2  3\n",
      " 4  5  6  7  8  9 10\n",
      "11 12 13 14 15 16 17\n",
      "18 19 20 21 22 23 24\n",
      "25 26 27 28 29 30 31\n",
      "\n",
      "Current Time: 12:32:29\n",
      "2025 is leap year? False\n"
     ]
    }
   ],
   "source": [
    "import calendar\n",
    "import time\n",
    "\n",
    "# Display the calendar of a specific month\n",
    "year = 2025\n",
    "month = 8\n",
    "print(calendar.month(year, month))\n",
    "\n",
    "# Display current time\n",
    "current_time = time.strftime(\"%H:%M:%S\")\n",
    "print(\"Current Time:\", current_time)\n",
    "\n",
    "# Check if a year is leap year\n",
    "print(year, \"is leap year?\", calendar.isleap(year))"
   ]
  },
  {
   "cell_type": "code",
   "execution_count": 3,
   "id": "9be881bd-5cb0-43d6-9d09-510fb1059e14",
   "metadata": {},
   "outputs": [
    {
     "name": "stdout",
     "output_type": "stream",
     "text": [
      "Random numbers: [22, 7, 18, 32, 46]\n",
      "Mean: 25\n",
      "Median: 22\n",
      "Square root of max number: 6.782329983125268\n"
     ]
    }
   ],
   "source": [
    "import random\n",
    "import statistics\n",
    "import math\n",
    "\n",
    "# Generate a list of 5 random numbers between 1 and 50\n",
    "numbers = [random.randint(1, 50) for _ in range(5)]\n",
    "print(\"Random numbers:\", numbers)\n",
    "\n",
    "# Find the mean and median\n",
    "print(\"Mean:\", statistics.mean(numbers))\n",
    "print(\"Median:\", statistics.median(numbers))\n",
    "\n",
    "# Find the square root of the largest number\n",
    "print(\"Square root of max number:\", math.sqrt(max(numbers)))"
   ]
  },
  {
   "cell_type": "code",
   "execution_count": 4,
   "id": "1d906182-7b23-4ed8-9852-66488b021d73",
   "metadata": {},
   "outputs": [
    {
     "name": "stdout",
     "output_type": "stream",
     "text": [
      "Today's date: 2025-08-12\n",
      "Random number: 77\n",
      "Square root: 8.774964387392123\n",
      "77 squared is: 5929.0\n"
     ]
    }
   ],
   "source": [
    "import datetime\n",
    "import random\n",
    "import math\n",
    "\n",
    "# Get today's date\n",
    "today = datetime.date.today()\n",
    "print(\"Today's date:\", today)\n",
    "\n",
    "# Generate a random number between 10 and 100\n",
    "num = random.randint(10, 100)\n",
    "print(\"Random number:\", num)\n",
    "\n",
    "# Calculate square root and power\n",
    "print(\"Square root:\", math.sqrt(num))\n",
    "print(f\"{num} squared is:\", math.pow(num, 2))"
   ]
  },
  {
   "cell_type": "code",
   "execution_count": null,
   "id": "4c11f8dd-f542-4dde-9076-c5a0ca7f17c3",
   "metadata": {},
   "outputs": [],
   "source": []
  }
 ],
 "metadata": {
  "kernelspec": {
   "display_name": "Python [conda env:base] *",
   "language": "python",
   "name": "conda-base-py"
  },
  "language_info": {
   "codemirror_mode": {
    "name": "ipython",
    "version": 3
   },
   "file_extension": ".py",
   "mimetype": "text/x-python",
   "name": "python",
   "nbconvert_exporter": "python",
   "pygments_lexer": "ipython3",
   "version": "3.13.5"
  }
 },
 "nbformat": 4,
 "nbformat_minor": 5
}
